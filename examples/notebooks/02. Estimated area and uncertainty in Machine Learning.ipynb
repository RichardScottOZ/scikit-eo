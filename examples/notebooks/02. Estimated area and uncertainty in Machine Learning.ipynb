{
 "cells": [
  {
   "cell_type": "markdown",
   "metadata": {
    "id": "fh5BEynP26_Y"
   },
   "source": [
    "<table class=\"ee-notebook-buttons\" align=\"center\">\n",
    "    <td><a target=\"_blank\"  href=\"https://colab.research.google.com/github/yotarazona/scikit-eo/blob/main/examples/02.%20Estimated%20area%20and%20uncertainty%20in%20Machine%20Learning.ipynb\"><img src=\"https://www.tensorflow.org/images/colab_logo_32px.png\" /> Run in Google Colab</a></td>\n",
    "</table>"
   ]
  },
  {
   "cell_type": "markdown",
   "metadata": {
    "id": "10Giun23tTue"
   },
   "source": [
    "# **_<div class=\"alert alert-success\"><font color='darkred'> Tutorials: 02 Estimating area and uncertainty in Machine Learning</font></div>_**"
   ]
  },
  {
   "cell_type": "markdown",
   "metadata": {},
   "source": [
    "In this example, after obtaining the predicted class map, we are in a case where we want to know the uncertainties of each class. The assessing accuracy and area estimate will be obtained following guidance proposed by [(Olofsson et al., 2014)](https://doi.org/10.1016/j.rse.2014.02.015). All that users need are the confusion matrix and a previously obtained predicted class map."
   ]
  },
  {
   "cell_type": "markdown",
   "metadata": {
    "id": "_jvTvShPtTun"
   },
   "source": [
    "# 1.0 Libraries"
   ]
  },
  {
   "cell_type": "markdown",
   "metadata": {
    "id": "QJI4OzKCtTuo"
   },
   "source": [
    "To install ```scikit-eo``` you can do it with the following line:"
   ]
  },
  {
   "cell_type": "code",
   "execution_count": null,
   "metadata": {
    "id": "DQbDpKdptTup"
   },
   "outputs": [],
   "source": [
    "!pip install scikeo"
   ]
  },
  {
   "cell_type": "markdown",
   "metadata": {
    "id": "Z7HaClOwtTus"
   },
   "source": [
    "Libraries to be used:"
   ]
  },
  {
   "cell_type": "code",
   "execution_count": 3,
   "metadata": {
    "executionInfo": {
     "elapsed": 1094,
     "status": "ok",
     "timestamp": 1694532248707,
     "user": {
      "displayName": "Yonatan Tarazona Coronel",
      "userId": "05968912325731278527"
     },
     "user_tz": 300
    },
    "id": "LqCqwmJXtTut"
   },
   "outputs": [],
   "source": [
    "import rasterio\n",
    "import numpy as np\n",
    "import pandas as pd\n",
    "from scikeo.process import confintervalML\n",
    "from scikeo.process import print_info"
   ]
  },
  {
   "cell_type": "markdown",
   "metadata": {},
   "source": [
    "Reading dataset directly from the external server (GitHub in this case). To do this, ```requests```, ```zipfile``` and ```io``` will be installed before. Then you will only need to run the following line:"
   ]
  },
  {
   "cell_type": "code",
   "execution_count": 1,
   "metadata": {
    "colab": {
     "base_uri": "https://localhost:8080/"
    },
    "executionInfo": {
     "elapsed": 22842,
     "status": "ok",
     "timestamp": 1694531201365,
     "user": {
      "displayName": "Yonatan Tarazona Coronel",
      "userId": "05968912325731278527"
     },
     "user_tz": 300
    },
    "id": "hp3R7GmBJYnA",
    "outputId": "010b604a-4fde-46de-e2c0-bae9e988c165"
   },
   "outputs": [],
   "source": [
    "import requests, zipfile\n",
    "from io import BytesIO\n",
    "\n",
    "# Defining the zip file URL\n",
    "url = 'https://github.com/yotarazona/data/raw/main/data/02_Uncertainty.zip'\n",
    "\n",
    "# Split URL to get the file name\n",
    "filename = url.split('/')[-1]\n",
    "\n",
    "# Downloading the file by sending the request to the URL\n",
    "req = requests.get(url)\n",
    "\n",
    "# extracting the zip file contents\n",
    "file = zipfile.ZipFile(BytesIO(req.content))\n",
    "file.extractall()"
   ]
  },
  {
   "cell_type": "markdown",
   "metadata": {
    "id": "rOCox346tTuu"
   },
   "source": [
    "## 2.0 Reading classified raster and confusion matrix"
   ]
  },
  {
   "cell_type": "code",
   "execution_count": 4,
   "metadata": {
    "executionInfo": {
     "elapsed": 376,
     "status": "ok",
     "timestamp": 1694532250572,
     "user": {
      "displayName": "Yonatan Tarazona Coronel",
      "userId": "05968912325731278527"
     },
     "user_tz": 300
    },
    "id": "1QQdCC8JtTu0"
   },
   "outputs": [],
   "source": [
    "data_dir = \"02_Uncertainty/\"\n",
    "\n",
    "# classified raster\n",
    "path_raster = data_dir + \"LC08_232066_20190727_Label.tif\"\n",
    "img = rasterio.open(path_raster).read(1)\n",
    "\n",
    "# confusion matrix\n",
    "path_matrix = data_dir + 'confusion_matrix.csv'\n",
    "conf_error = pd.read_csv(path_matrix, index_col= 0, sep = ';')"
   ]
  },
  {
   "cell_type": "markdown",
   "metadata": {
    "id": "KdAl3OrLPzKx"
   },
   "source": [
    "Confusion matrix"
   ]
  },
  {
   "cell_type": "code",
   "execution_count": 5,
   "metadata": {
    "colab": {
     "base_uri": "https://localhost:8080/",
     "height": 269
    },
    "executionInfo": {
     "elapsed": 442,
     "status": "ok",
     "timestamp": 1694532253530,
     "user": {
      "displayName": "Yonatan Tarazona Coronel",
      "userId": "05968912325731278527"
     },
     "user_tz": 300
    },
    "id": "X2MooTMttTu2",
    "outputId": "43aae39c-f2dc-4b76-f7d1-ce61f9facde2"
   },
   "outputs": [
    {
     "data": {
      "text/html": [
       "<div>\n",
       "<style scoped>\n",
       "    .dataframe tbody tr th:only-of-type {\n",
       "        vertical-align: middle;\n",
       "    }\n",
       "\n",
       "    .dataframe tbody tr th {\n",
       "        vertical-align: top;\n",
       "    }\n",
       "\n",
       "    .dataframe thead th {\n",
       "        text-align: right;\n",
       "    }\n",
       "</style>\n",
       "<table border=\"1\" class=\"dataframe\">\n",
       "  <thead>\n",
       "    <tr style=\"text-align: right;\">\n",
       "      <th></th>\n",
       "      <th>1.0</th>\n",
       "      <th>2.0</th>\n",
       "      <th>3.0</th>\n",
       "      <th>4.0</th>\n",
       "      <th>Total</th>\n",
       "      <th>Users_Accuracy</th>\n",
       "      <th>Commission</th>\n",
       "    </tr>\n",
       "  </thead>\n",
       "  <tbody>\n",
       "    <tr>\n",
       "      <th>1.0</th>\n",
       "      <td>15.0</td>\n",
       "      <td>0.00</td>\n",
       "      <td>0.0</td>\n",
       "      <td>0.000000</td>\n",
       "      <td>15.0</td>\n",
       "      <td>100.000000</td>\n",
       "      <td>0.000000</td>\n",
       "    </tr>\n",
       "    <tr>\n",
       "      <th>2.0</th>\n",
       "      <td>0.0</td>\n",
       "      <td>15.00</td>\n",
       "      <td>0.0</td>\n",
       "      <td>1.000000</td>\n",
       "      <td>16.0</td>\n",
       "      <td>93.750000</td>\n",
       "      <td>6.250000</td>\n",
       "    </tr>\n",
       "    <tr>\n",
       "      <th>3.0</th>\n",
       "      <td>0.0</td>\n",
       "      <td>0.00</td>\n",
       "      <td>14.0</td>\n",
       "      <td>0.000000</td>\n",
       "      <td>14.0</td>\n",
       "      <td>100.000000</td>\n",
       "      <td>0.000000</td>\n",
       "    </tr>\n",
       "    <tr>\n",
       "      <th>4.0</th>\n",
       "      <td>0.0</td>\n",
       "      <td>1.00</td>\n",
       "      <td>0.0</td>\n",
       "      <td>18.000000</td>\n",
       "      <td>19.0</td>\n",
       "      <td>94.736842</td>\n",
       "      <td>5.263158</td>\n",
       "    </tr>\n",
       "    <tr>\n",
       "      <th>Total</th>\n",
       "      <td>15.0</td>\n",
       "      <td>16.00</td>\n",
       "      <td>14.0</td>\n",
       "      <td>19.000000</td>\n",
       "      <td>NaN</td>\n",
       "      <td>NaN</td>\n",
       "      <td>NaN</td>\n",
       "    </tr>\n",
       "    <tr>\n",
       "      <th>Producer_Accuracy</th>\n",
       "      <td>100.0</td>\n",
       "      <td>93.75</td>\n",
       "      <td>100.0</td>\n",
       "      <td>94.736842</td>\n",
       "      <td>NaN</td>\n",
       "      <td>NaN</td>\n",
       "      <td>NaN</td>\n",
       "    </tr>\n",
       "    <tr>\n",
       "      <th>Omission</th>\n",
       "      <td>0.0</td>\n",
       "      <td>6.25</td>\n",
       "      <td>0.0</td>\n",
       "      <td>5.263158</td>\n",
       "      <td>NaN</td>\n",
       "      <td>NaN</td>\n",
       "      <td>NaN</td>\n",
       "    </tr>\n",
       "  </tbody>\n",
       "</table>\n",
       "</div>"
      ],
      "text/plain": [
       "                     1.0    2.0    3.0        4.0  Total  Users_Accuracy  \\\n",
       "1.0                 15.0   0.00    0.0   0.000000   15.0      100.000000   \n",
       "2.0                  0.0  15.00    0.0   1.000000   16.0       93.750000   \n",
       "3.0                  0.0   0.00   14.0   0.000000   14.0      100.000000   \n",
       "4.0                  0.0   1.00    0.0  18.000000   19.0       94.736842   \n",
       "Total               15.0  16.00   14.0  19.000000    NaN             NaN   \n",
       "Producer_Accuracy  100.0  93.75  100.0  94.736842    NaN             NaN   \n",
       "Omission             0.0   6.25    0.0   5.263158    NaN             NaN   \n",
       "\n",
       "                   Commission  \n",
       "1.0                  0.000000  \n",
       "2.0                  6.250000  \n",
       "3.0                  0.000000  \n",
       "4.0                  5.263158  \n",
       "Total                     NaN  \n",
       "Producer_Accuracy         NaN  \n",
       "Omission                  NaN  "
      ]
     },
     "execution_count": 5,
     "metadata": {},
     "output_type": "execute_result"
    }
   ],
   "source": [
    "conf_error"
   ]
  },
  {
   "cell_type": "markdown",
   "metadata": {
    "id": "qJhwTYOIJhfW"
   },
   "source": [
    "Only confusion matrix values:"
   ]
  },
  {
   "cell_type": "code",
   "execution_count": 6,
   "metadata": {
    "colab": {
     "base_uri": "https://localhost:8080/"
    },
    "executionInfo": {
     "elapsed": 7,
     "status": "ok",
     "timestamp": 1694532254921,
     "user": {
      "displayName": "Yonatan Tarazona Coronel",
      "userId": "05968912325731278527"
     },
     "user_tz": 300
    },
    "id": "ismWu0uQQKNw",
    "outputId": "fd51bced-f407-4b40-c1ab-96a6b78497ec"
   },
   "outputs": [
    {
     "data": {
      "text/plain": [
       "array([[15.,  0.,  0.,  0.],\n",
       "       [ 0., 15.,  0.,  1.],\n",
       "       [ 0.,  0., 14.,  0.],\n",
       "       [ 0.,  1.,  0., 18.]])"
      ]
     },
     "execution_count": 6,
     "metadata": {},
     "output_type": "execute_result"
    }
   ],
   "source": [
    "values = conf_error.iloc[0:4, 0:4].to_numpy()\n",
    "values"
   ]
  },
  {
   "cell_type": "markdown",
   "metadata": {
    "id": "YQ97AMjOtTu7"
   },
   "source": [
    "## 3.0 Results"
   ]
  },
  {
   "cell_type": "markdown",
   "metadata": {
    "id": "k6BB148ZjcBZ"
   },
   "source": [
    "Obtaining estimated area and uncertainty. Be careful with the parameter to be used with the ```confintervalML()``` function. Let's explain in detail:\n",
    "- *matrix*: is the confusion matrix with only values\n",
    "- *image_pred*: the classified image in rows and cols (2d)\n",
    "- *pixel_size*: the pixel size\n",
    "- *nodata*: in this image nodata has a -9999 value, but in other cases it could take 0 or NaN. So, be careful with this parameter."
   ]
  },
  {
   "cell_type": "code",
   "execution_count": 7,
   "metadata": {
    "executionInfo": {
     "elapsed": 389,
     "status": "ok",
     "timestamp": 1694532267341,
     "user": {
      "displayName": "Yonatan Tarazona Coronel",
      "userId": "05968912325731278527"
     },
     "user_tz": 300
    },
    "id": "LofMu2ryRTNM"
   },
   "outputs": [],
   "source": [
    "result = confintervalML(matrix = values, image_pred = img, pixel_size = 30, nodata = -9999)"
   ]
  },
  {
   "cell_type": "code",
   "execution_count": 8,
   "metadata": {
    "colab": {
     "base_uri": "https://localhost:8080/"
    },
    "executionInfo": {
     "elapsed": 490,
     "status": "ok",
     "timestamp": 1694532278234,
     "user": {
      "displayName": "Yonatan Tarazona Coronel",
      "userId": "05968912325731278527"
     },
     "user_tz": 300
    },
    "id": "24pJWrZg77_y",
    "outputId": "43931657-78c1-489e-a032-4b9571734451"
   },
   "outputs": [
    {
     "name": "stdout",
     "output_type": "stream",
     "text": [
      "***** Confusion Matrix by Estimated Proportions of area an uncertainty*****\n",
      "\n",
      "Overall accuracy with 95%\n",
      "0.9758 ± 0.0418\n",
      "\n",
      "Confusion matrix\n",
      "            1       2       3       4  Total[Wi]  Area[pixels]\n",
      "1      0.0414  0.0000  0.0000  0.0000     0.0414       67246.0\n",
      "2      0.0000  0.0462  0.0000  0.0031     0.0493       79983.0\n",
      "3      0.0000  0.0000  0.5081  0.0000     0.5081      825123.0\n",
      "4      0.0000  0.0211  0.0000  0.3801     0.4012      651448.0\n",
      "Total  0.0414  0.0673  0.5081  0.3832     1.0000     1623800.0\n",
      "\n",
      "User´s accuracy with 95%\n",
      "1.0: 1.0000 ± 0.0000\n",
      "2.0: 0.9375 ± 0.1225\n",
      "3.0: 1.0000 ± 0.0000\n",
      "4.0: 0.9474 ± 0.1032\n",
      "\n",
      "Estimating area (Ha) and uncertainty with 95%\n",
      "1.0: 6052.1400 ± 0.0000\n",
      "2.0: 9834.3719 ± 6112.1256\n",
      "3.0: 74261.0700 ± 0.0000\n",
      "4.0: 55994.4181 ± 6112.1256\n"
     ]
    }
   ],
   "source": [
    "print_info(result)"
   ]
  }
 ],
 "metadata": {
  "colab": {
   "provenance": []
  },
  "kernelspec": {
   "display_name": "Python 3 (ipykernel)",
   "language": "python",
   "name": "python3"
  },
  "language_info": {
   "codemirror_mode": {
    "name": "ipython",
    "version": 3
   },
   "file_extension": ".py",
   "mimetype": "text/x-python",
   "name": "python",
   "nbconvert_exporter": "python",
   "pygments_lexer": "ipython3",
   "version": "3.11.7"
  },
  "toc": {
   "base_numbering": 1,
   "nav_menu": {},
   "number_sections": false,
   "sideBar": true,
   "skip_h1_title": false,
   "title_cell": "Table of Contents",
   "title_sidebar": "Contents",
   "toc_cell": false,
   "toc_position": {},
   "toc_section_display": true,
   "toc_window_display": false
  }
 },
 "nbformat": 4,
 "nbformat_minor": 4
}
